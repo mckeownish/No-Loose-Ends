{
 "cells": [
  {
   "cell_type": "code",
   "execution_count": 3,
   "id": "e7ef4131-d8e5-4cf0-be74-454175afb67c",
   "metadata": {},
   "outputs": [],
   "source": [
    "from wiggle import CarbonaraDataTools as cdt\n",
    "from wiggle import writhe_evo as wgl"
   ]
  },
  {
   "cell_type": "code",
   "execution_count": 5,
   "id": "5eb8f033-d6ff-41b7-9e35-27036f25f26b",
   "metadata": {},
   "outputs": [],
   "source": [
    "# Creating functions that read a pdb and generate the StS and StA writhe metrics\n",
    "\n",
    "def StS_from_pdb(pdb_file, stride=1):\n",
    "\n",
    "    coords = cdt.extract_coords_from_PDB(pdb_file)\n",
    "    return wgl.find_Sigma_array(coords[::stride])\n",
    "\n",
    "def StA_from_pdb(pdb_file, stride=1):\n",
    "\n",
    "    coords = cdt.extract_coords_from_PDB(pdb_file)\n",
    "    return wgl.calculate_segment_to_all_from_points(coords[::stride])"
   ]
  },
  {
   "cell_type": "code",
   "execution_count": null,
   "id": "b0c07ebf-375a-419f-851d-089bb70d426d",
   "metadata": {},
   "outputs": [],
   "source": []
  }
 ],
 "metadata": {
  "kernelspec": {
   "display_name": "Python 3 (ipykernel)",
   "language": "python",
   "name": "python3"
  },
  "language_info": {
   "codemirror_mode": {
    "name": "ipython",
    "version": 3
   },
   "file_extension": ".py",
   "mimetype": "text/x-python",
   "name": "python",
   "nbconvert_exporter": "python",
   "pygments_lexer": "ipython3",
   "version": "3.9.18"
  }
 },
 "nbformat": 4,
 "nbformat_minor": 5
}
