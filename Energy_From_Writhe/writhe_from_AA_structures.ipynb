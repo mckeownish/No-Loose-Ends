{
 "cells": [
  {
   "cell_type": "code",
   "execution_count": 28,
   "id": "e7ef4131-d8e5-4cf0-be74-454175afb67c",
   "metadata": {},
   "outputs": [],
   "source": [
    "from wiggle import CarbonaraDataTools as cdt\n",
    "from wiggle import writhe_evo as wgl\n",
    "import numpy as np\n",
    "import pandas as pd\n",
    "\n",
    "from glob import glob\n",
    "from tqdm import tqdm"
   ]
  },
  {
   "cell_type": "code",
   "execution_count": 18,
   "id": "5eb8f033-d6ff-41b7-9e35-27036f25f26b",
   "metadata": {},
   "outputs": [],
   "source": [
    "# Creating functions that read a pdb and generate the StS and StA writhe metrics\n",
    "\n",
    "def StS_from_pdb(pdb_file, stride=1):\n",
    "\n",
    "    coords = cdt.extract_coords_from_PDB(pdb_file)\n",
    "    return wgl.find_Sigma_array(coords[::stride])\n",
    "\n",
    "def StA_from_pdb(pdb_file, stride=1):\n",
    "\n",
    "    coords = cdt.extract_coords_from_PDB(pdb_file)\n",
    "    return wgl.calculate_segment_to_all_from_points(coords[::stride])"
   ]
  },
  {
   "cell_type": "markdown",
   "id": "770be28f-5723-49bd-9fd0-18ea8f07c123",
   "metadata": {},
   "source": []
  },
  {
   "cell_type": "code",
   "execution_count": 67,
   "id": "c65dbfaf-6154-44cf-830c-9d0c2778120c",
   "metadata": {},
   "outputs": [
    {
     "name": "stderr",
     "output_type": "stream",
     "text": [
      "9858it [03:11, 51.59it/s]\n"
     ]
    }
   ],
   "source": [
    "pdb_files = np.sort(glob('../data/random_lysosome_conformations/AA_pdbs/*'))\n",
    "\n",
    "file_names = []\n",
    "StA_arr = np.zeros([len(pdb_files), StA_from_pdb(pdb_files[0], stride=4).shape[0]])\n",
    "\n",
    "\n",
    "for i, file in tqdm( enumerate(pdb_files) ):\n",
    "\n",
    "    file_names.append( file.split('/')[-1].split('.')[0] )\n",
    "    StA_arr[i,:] = StA_from_pdb(file, stride=4)"
   ]
  },
  {
   "cell_type": "code",
   "execution_count": 134,
   "id": "c03bac20-a2a3-44e2-a119-ad57f249c76c",
   "metadata": {},
   "outputs": [],
   "source": [
    "df = pd.DataFrame(StA_arr)\n",
    "\n",
    "col_names = []\n",
    "for c in df.columns:\n",
    "    col_names.append('segment_'+str(c))\n",
    "\n",
    "df.columns = col_names\n",
    "\n",
    "file_names_appen = []\n",
    "for f in file_names:\n",
    "    file_names_appen.append(f+'.pdb')\n",
    "\n",
    "df['file_name'] = file_names_appen\n",
    "\n",
    "energy_df = pd.read_csv('../data/random_lysosome_conformations/conformation_energy.csv')\n",
    "\n",
    "df_StA_energy = df.merge(energy_df, on='file_name', how='inner')"
   ]
  },
  {
   "cell_type": "code",
   "execution_count": 136,
   "id": "aecceef8-0ddb-4648-96ce-6fbff3ab7463",
   "metadata": {},
   "outputs": [],
   "source": [
    "# df_StA_energy[ df_StA_energy['Energy'].values>1e5 ]"
   ]
  },
  {
   "cell_type": "code",
   "execution_count": 137,
   "id": "7ab6f815-6eb1-417f-a539-3d91e2aed246",
   "metadata": {},
   "outputs": [],
   "source": [
    "df_StA_energy = df_StA_energy[ df_StA_energy['Energy'].values<1e5 ]"
   ]
  },
  {
   "cell_type": "code",
   "execution_count": 138,
   "id": "ba946404-a612-443e-a9be-b083e1d4680f",
   "metadata": {},
   "outputs": [],
   "source": [
    "from catboost import CatBoostClassifier, CatBoostRegressor, Pool\n",
    "from sklearn.model_selection import train_test_split\n",
    "import shap"
   ]
  },
  {
   "cell_type": "code",
   "execution_count": 139,
   "id": "dec7ad66-2ed7-4701-b3fe-5e2476715730",
   "metadata": {},
   "outputs": [],
   "source": [
    "X = df_StA_energy.drop(columns=['file_name', 'Energy'])\n",
    "y = df_StA_energy['Energy']"
   ]
  },
  {
   "cell_type": "code",
   "execution_count": 140,
   "id": "8bd17ddf-c50b-4a60-9b7f-054182122a5b",
   "metadata": {},
   "outputs": [],
   "source": [
    "X_train, X_test, y_train, y_test = train_test_split(X, y, test_size=0.3, random_state=1)"
   ]
  },
  {
   "cell_type": "code",
   "execution_count": 141,
   "id": "3fb6f692-8523-45a6-958b-8934217e94cc",
   "metadata": {},
   "outputs": [],
   "source": [
    "params = { 'iterations': 1000,\n",
    "            'learning_rate': 0.05,\n",
    "            # 'cat_features':self.cat_feats,\n",
    "            'depth': 7,\n",
    "            'bagging_temperature':1,\n",
    "            'l2_leaf_reg':1,\n",
    "            'verbose':200,\n",
    "            #'best_model_min_trees':25,\n",
    "            'od_type':\"IncToDec\", # overfit detector\n",
    "            'od_wait':500, # most recent best iteration to wait before stopping\n",
    "            'random_seed': 101,\n",
    "            }\n",
    "    \n",
    "    \n",
    "cat_model = CatBoostRegressor(**params, allow_writing_files=False)\n",
    "cat_model.fit(X_train, y_train,   \n",
    "                eval_set=(X_test, y_test), \n",
    "                use_best_model=True,\n",
    "                plot=False,\n",
    "                verbose_eval=False,\n",
    "                );"
   ]
  },
  {
   "cell_type": "code",
   "execution_count": 142,
   "id": "999b4d7f-a82f-47bb-bd1a-869b2e0566e1",
   "metadata": {},
   "outputs": [
    {
     "data": {
      "text/plain": [
       "{'RMSE': 4728.959100885514}"
      ]
     },
     "execution_count": 142,
     "metadata": {},
     "output_type": "execute_result"
    }
   ],
   "source": [
    "cat_model.best_score_['validation']"
   ]
  },
  {
   "cell_type": "code",
   "execution_count": 143,
   "id": "6d52cc60-b665-4d39-b97a-fed7dc1190e4",
   "metadata": {},
   "outputs": [
    {
     "data": {
      "text/plain": [
       "count     9830.000000\n",
       "mean     50156.502299\n",
       "std       4606.069681\n",
       "min      39365.769911\n",
       "25%      47412.950668\n",
       "50%      49438.940480\n",
       "75%      51880.141398\n",
       "max      94165.372230\n",
       "Name: Energy, dtype: float64"
      ]
     },
     "execution_count": 143,
     "metadata": {},
     "output_type": "execute_result"
    }
   ],
   "source": [
    "y.describe()"
   ]
  },
  {
   "cell_type": "code",
   "execution_count": null,
   "id": "235f7803-23f1-487b-a6d9-b26ee7397568",
   "metadata": {},
   "outputs": [],
   "source": []
  }
 ],
 "metadata": {
  "kernelspec": {
   "display_name": "Python 3 (ipykernel)",
   "language": "python",
   "name": "python3"
  },
  "language_info": {
   "codemirror_mode": {
    "name": "ipython",
    "version": 3
   },
   "file_extension": ".py",
   "mimetype": "text/x-python",
   "name": "python",
   "nbconvert_exporter": "python",
   "pygments_lexer": "ipython3",
   "version": "3.9.18"
  }
 },
 "nbformat": 4,
 "nbformat_minor": 5
}
