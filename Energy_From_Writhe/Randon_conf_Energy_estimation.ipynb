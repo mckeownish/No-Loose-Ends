{
 "cells": [
  {
   "cell_type": "code",
   "execution_count": 1,
   "id": "7f6ded99-362e-4ffe-baea-4760526e7ae3",
   "metadata": {},
   "outputs": [],
   "source": [
    "from openmm.app import *\n",
    "from openmm import *\n",
    "from openmm.unit import *\n",
    "from sys import stdout"
   ]
  },
  {
   "cell_type": "code",
   "execution_count": 3,
   "id": "f6332ac1-981d-4123-9758-3466f7b46a49",
   "metadata": {},
   "outputs": [],
   "source": [
    "from glob import glob\n",
    "from tqdm import tqdm\n",
    "import pandas as pd\n",
    "import numpy as np"
   ]
  },
  {
   "cell_type": "code",
   "execution_count": 4,
   "id": "78e99790-4121-49b2-83d3-75a34aaecd4e",
   "metadata": {},
   "outputs": [],
   "source": [
    "def create_system_find_energy(file):\n",
    "\n",
    "    try:\n",
    "        pdb = PDBFile(file)\n",
    "        forcefield = ForceField('amber14-all.xml', 'amber14/tip3pfb.xml')\n",
    "        system = forcefield.createSystem(pdb.topology, \n",
    "                                         # nonbondedMethod=PME,\n",
    "                                         nonbondedMethod=app.NoCutoff,\n",
    "                nonbondedCutoff=1*nanometer, constraints=HBonds)\n",
    "        \n",
    "        integrator = LangevinMiddleIntegrator(300*kelvin, 1/picosecond, 0.004*picoseconds)\n",
    "        simulation = Simulation(pdb.topology, system, integrator)\n",
    "        simulation.context.setPositions(pdb.positions)\n",
    "        \n",
    "        state = simulation.context.getState(getEnergy=True)\n",
    "        einit = state.getPotentialEnergy()._value\n",
    "    \n",
    "        return einit\n",
    "\n",
    "    except:\n",
    "        print(file, ' failed')\n",
    "        problematic_pdbs.append(file)\n",
    "        return np.nan\n",
    "    # print('----- ', file, ' -----')\n",
    "    # print(f'Initial Energy: {einit}') # default units: kJ mol^-1\n",
    "    # print('')"
   ]
  },
  {
   "cell_type": "code",
   "execution_count": 6,
   "id": "05ff297d-6869-44f3-9e73-dcb14dbd9f99",
   "metadata": {},
   "outputs": [
    {
     "name": "stderr",
     "output_type": "stream",
     "text": [
      "100%|██████████████████████████████████████████████████████████████████████████████████████████████████████████| 9858/9858 [41:43<00:00,  3.94it/s]\n"
     ]
    }
   ],
   "source": [
    "input_pdbs = np.sort( glob('random_conformations/AA_pdbs/*') )\n",
    "problematic_pdbs = []\n",
    "\n",
    "file_names = []\n",
    "energy_lst = []\n",
    "\n",
    "# n1 = 5850\n",
    "\n",
    "for f in tqdm(input_pdbs):\n",
    "    \n",
    "    file_names.append(f.split('/')[-1])\n",
    "    energy_lst.append(create_system_find_energy(f))"
   ]
  },
  {
   "cell_type": "code",
   "execution_count": 7,
   "id": "e4ee3eea-4e33-4991-bd42-92ce5a2b9be4",
   "metadata": {},
   "outputs": [
    {
     "data": {
      "text/plain": [
       "[]"
      ]
     },
     "execution_count": 7,
     "metadata": {},
     "output_type": "execute_result"
    }
   ],
   "source": [
    "problematic_pdbs"
   ]
  },
  {
   "cell_type": "code",
   "execution_count": 46,
   "id": "230ceab5-9aab-40d5-a192-0d6c772d00a9",
   "metadata": {},
   "outputs": [],
   "source": [
    "df = pd.DataFrame(data={'file_name':file_names, 'Energy':energy_lst})"
   ]
  },
  {
   "cell_type": "code",
   "execution_count": 48,
   "id": "efdfd3d8-2c68-4351-9cfd-a9598246e8c9",
   "metadata": {},
   "outputs": [
    {
     "data": {
      "text/html": [
       "<div>\n",
       "<style scoped>\n",
       "    .dataframe tbody tr th:only-of-type {\n",
       "        vertical-align: middle;\n",
       "    }\n",
       "\n",
       "    .dataframe tbody tr th {\n",
       "        vertical-align: top;\n",
       "    }\n",
       "\n",
       "    .dataframe thead th {\n",
       "        text-align: right;\n",
       "    }\n",
       "</style>\n",
       "<table border=\"1\" class=\"dataframe\">\n",
       "  <thead>\n",
       "    <tr style=\"text-align: right;\">\n",
       "      <th></th>\n",
       "      <th>file_name</th>\n",
       "      <th>Energy</th>\n",
       "    </tr>\n",
       "  </thead>\n",
       "  <tbody>\n",
       "    <tr>\n",
       "      <th>2312</th>\n",
       "      <td>coords_2_380.pdb</td>\n",
       "      <td>1.259049e+12</td>\n",
       "    </tr>\n",
       "    <tr>\n",
       "      <th>5880</th>\n",
       "      <td>coords_6_118.pdb</td>\n",
       "      <td>8.978805e+10</td>\n",
       "    </tr>\n",
       "    <tr>\n",
       "      <th>8278</th>\n",
       "      <td>coords_8_477.pdb</td>\n",
       "      <td>1.004687e+06</td>\n",
       "    </tr>\n",
       "  </tbody>\n",
       "</table>\n",
       "</div>"
      ],
      "text/plain": [
       "             file_name        Energy\n",
       "2312  coords_2_380.pdb  1.259049e+12\n",
       "5880  coords_6_118.pdb  8.978805e+10\n",
       "8278  coords_8_477.pdb  1.004687e+06"
      ]
     },
     "execution_count": 48,
     "metadata": {},
     "output_type": "execute_result"
    }
   ],
   "source": [
    "df[df['Energy'] > 1e6]"
   ]
  },
  {
   "cell_type": "code",
   "execution_count": 44,
   "id": "806574b4-9f88-43dc-83af-3c61276d6a9c",
   "metadata": {},
   "outputs": [],
   "source": [
    "# df = df[df['Energy'] < 1e6]"
   ]
  },
  {
   "cell_type": "code",
   "execution_count": 45,
   "id": "bb2310e0-ab67-48e6-8f11-887db93cefb4",
   "metadata": {},
   "outputs": [
    {
     "data": {
      "text/plain": [
       "<Axes: >"
      ]
     },
     "execution_count": 45,
     "metadata": {},
     "output_type": "execute_result"
    },
    {
     "data": {
      "image/png": "[encoded data removed]",
      "text/plain": [
       "<Figure size 640x480 with 1 Axes>"
      ]
     },
     "metadata": {},
     "output_type": "display_data"
    }
   ],
   "source": [
    "df['Energy'].hist()"
   ]
  },
  {
   "cell_type": "code",
   "execution_count": 47,
   "id": "4c60b243-18e1-4b4b-a435-301c6f5dadc3",
   "metadata": {},
   "outputs": [],
   "source": [
    "df.to_csv('conformation_energy.csv', index=False)"
   ]
  },
  {
   "cell_type": "code",
   "execution_count": 11,
   "id": "a26e510e-3ba5-4b46-b726-0965d888f16b",
   "metadata": {},
   "outputs": [
    {
     "name": "stdout",
     "output_type": "stream",
     "text": [
      "-----  random_conformations/AA_pdbs/coords_8_525.pdb  -----\n",
      "Initial Energy: 50074.55177307129 kJ/mol\n",
      "\n",
      "-----  random_conformations/AA_pdbs/coords_4_75.pdb  -----\n",
      "Initial Energy: 50410.433334350586 kJ/mol\n",
      "\n",
      "-----  random_conformations/AA_pdbs/coords_3_853.pdb  -----\n",
      "Initial Energy: 44882.947174072266 kJ/mol\n",
      "\n",
      "-----  random_conformations/AA_pdbs/coords_9_842.pdb  -----\n",
      "Initial Energy: 47698.57891845703 kJ/mol\n",
      "\n",
      "-----  random_conformations/AA_pdbs/coords_0_645.pdb  -----\n",
      "Initial Energy: 46788.94677734375 kJ/mol\n",
      "\n",
      "-----  random_conformations/AA_pdbs/coords_3_158.pdb  -----\n",
      "Initial Energy: 44691.55163574219 kJ/mol\n",
      "\n",
      "-----  random_conformations/AA_pdbs/coords_5_846.pdb  -----\n",
      "Initial Energy: 49887.2271194458 kJ/mol\n",
      "\n",
      "-----  random_conformations/AA_pdbs/coords_1_808.pdb  -----\n",
      "Initial Energy: 48616.68719482422 kJ/mol\n",
      "\n",
      "-----  random_conformations/AA_pdbs/coords_7_445.pdb  -----\n",
      "Initial Energy: 54967.885833740234 kJ/mol\n",
      "\n",
      "-----  random_conformations/AA_pdbs/coords_1_6.pdb  -----\n",
      "Initial Energy: 56009.09259033203 kJ/mol\n",
      "\n"
     ]
    }
   ],
   "source": [
    "for f in input_pdbs[:10]:\n",
    "    create_system_find_energy(f)"
   ]
  },
  {
   "cell_type": "code",
   "execution_count": null,
   "id": "2a9e12af-e4df-44c2-b973-ff8a796e045b",
   "metadata": {},
   "outputs": [],
   "source": [
    "simulation.minimizeEnergy()\n",
    "simulation.reporters.append(PDBReporter('output.pdb', 1000))\n",
    "simulation.reporters.append(StateDataReporter(stdout, 1000, step=True,\n",
    "        potentialEnergy=True, temperature=True))\n",
    "simulation.step(10000)"
   ]
  }
 ],
 "metadata": {
  "kernelspec": {
   "display_name": "Python 3 (ipykernel)",
   "language": "python",
   "name": "python3"
  },
  "language_info": {
   "codemirror_mode": {
    "name": "ipython",
    "version": 3
   },
   "file_extension": ".py",
   "mimetype": "text/x-python",
   "name": "python",
   "nbconvert_exporter": "python",
   "pygments_lexer": "ipython3",
   "version": "3.9.18"
  }
 },
 "nbformat": 4,
 "nbformat_minor": 5
}
