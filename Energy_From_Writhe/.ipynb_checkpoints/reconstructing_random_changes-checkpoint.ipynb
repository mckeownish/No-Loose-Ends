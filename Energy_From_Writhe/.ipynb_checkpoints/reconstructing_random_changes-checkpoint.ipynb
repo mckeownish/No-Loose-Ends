{
 "cells": [
  {
   "cell_type": "code",
   "execution_count": 2,
   "id": "2212e812",
   "metadata": {},
   "outputs": [],
   "source": [
    "from CA_2_AA import CA2AA\n",
    "import CarbonaraDataTools as CDT\n",
    "\n",
    "import numpy as np\n",
    "import os\n",
    "from glob import glob\n",
    "import re\n",
    "import shutil\n",
    "from tqdm import tqdm\n",
    "\n",
    "from pqdm.processes import pqdm\n",
    "# If you want threads instead:\n",
    "# from pqdm.threads import pqdm\n"
   ]
  },
  {
   "cell_type": "code",
   "execution_count": 3,
   "id": "ecf3c2e1",
   "metadata": {},
   "outputs": [
    {
     "data": {
      "application/vnd.jupyter.widget-view+json": {
       "model_id": "369f31e92b4f45a685a1f07ebdc5e449",
       "version_major": 2,
       "version_minor": 0
      },
      "text/plain": [
       "QUEUEING TASKS | :   0%|          | 0/8 [00:00<?, ?it/s]"
      ]
     },
     "metadata": {},
     "output_type": "display_data"
    },
    {
     "data": {
      "application/vnd.jupyter.widget-view+json": {
       "model_id": "578c973b853a4ff5b84e67721d4127dd",
       "version_major": 2,
       "version_minor": 0
      },
      "text/plain": [
       "PROCESSING TASKS | :   0%|          | 0/8 [00:00<?, ?it/s]"
      ]
     },
     "metadata": {},
     "output_type": "display_data"
    },
    {
     "data": {
      "application/vnd.jupyter.widget-view+json": {
       "model_id": "f59a672b461b4164886aa3682644adae",
       "version_major": 2,
       "version_minor": 0
      },
      "text/plain": [
       "COLLECTING RESULTS | :   0%|          | 0/8 [00:00<?, ?it/s]"
      ]
     },
     "metadata": {},
     "output_type": "display_data"
    },
    {
     "data": {
      "text/plain": [
       "[None, None, None, None, None, None, None, None]"
      ]
     },
     "execution_count": 3,
     "metadata": {},
     "output_type": "execute_result"
    }
   ],
   "source": [
    "def run_modeller(file):\n",
    "\n",
    "    name = file.split('/')[-1].split('.')[0]\n",
    "\n",
    "    outfile_CA = CA_path + name + '.pdb'    \n",
    "#   outfile_CA_lst.append(outfile_CA)\n",
    "\n",
    "    # write coords to a C alpha only PDB\n",
    "    CDT.Carbonara_2_PDB(file, fingerprint, output_file=outfile_CA)\n",
    "\n",
    "    outfile_AA = AA_path + name + '.pdb'\n",
    "#   outfile_AA_lst.append(outfile_AA)\n",
    "\n",
    "    CA2AA(outfile_CA, outfile_AA, iterations=3, stout=False)\n",
    "\n",
    "# U n c o m e n t  for file setup\n",
    "\n",
    "root_path = 'random_conformations/'\n",
    "# #     mol_name = outfoldername\n",
    "\n",
    "path = root_path\n",
    "\n",
    "# if os.path.isdir(path):\n",
    "#     shutil.rmtree(path)\n",
    "\n",
    "# print(path)\n",
    "# os.mkdir(path)\n",
    "\n",
    "CA_path = path +'/CA_pdbs/'\n",
    "AA_path = path +'/AA_pdbs/'\n",
    "# os.mkdir(CA_path)\n",
    "# os.mkdir(AA_path)\n",
    "\n",
    "\n",
    "root = '/home/josh/Documents/AI_overlord/weep_learning/data/coords/'\n",
    "n1=16*4\n",
    "n2=1000\n",
    "n3=2500\n",
    "n4=6000\n",
    "n5=10000\n",
    "# coord_file_lst = np.sort(glob(root+'*'))[n4:n5]\n",
    "\n",
    "coord_file_lst = [   root+'coords_5_865.dat',\n",
    "                     root+'coords_5_866.dat',\n",
    "                     root+'coords_5_867.dat',\n",
    "                     root+'coords_5_868.dat',\n",
    "                     root+'coords_5_869.dat',\n",
    "                     root+'coords_5_87.dat',\n",
    "                     root+'coords_5_870.dat',\n",
    "                     root+'coords_5_871.dat']\n",
    "\n",
    "fingerprint = 'newFitData/lysosome/fingerPrint1.dat'\n",
    "\n",
    "\n",
    "args = coord_file_lst\n",
    "#     args = range(10)\n",
    "pqdm(args, run_modeller, n_jobs=8)\n",
    "\n",
    "\n",
    "\n"
   ]
  },
  {
   "cell_type": "code",
   "execution_count": null,
   "id": "590357c0",
   "metadata": {},
   "outputs": [],
   "source": [
    "\n"
   ]
  },
  {
   "cell_type": "code",
   "execution_count": 11,
   "id": "0566578f",
   "metadata": {},
   "outputs": [
    {
     "name": "stdout",
     "output_type": "stream",
     "text": [
      "random_conformations/\n"
     ]
    },
    {
     "name": "stderr",
     "output_type": "stream",
     "text": [
      "1it [00:19, 19.03s/it]\n"
     ]
    },
    {
     "data": {
      "text/plain": [
       "(['random_conformations//CA_pdbs/test_CA.pdb'],\n",
       " ['random_conformations//AA_pdbs/test_AA.pdb'])"
      ]
     },
     "execution_count": 11,
     "metadata": {},
     "output_type": "execute_result"
    }
   ],
   "source": [
    "modeller_run(fingerprint_file, coord_file_lst)"
   ]
  },
  {
   "cell_type": "code",
   "execution_count": 20,
   "id": "b5374128",
   "metadata": {},
   "outputs": [
    {
     "data": {
      "text/plain": [
       "'coords_0_0'"
      ]
     },
     "execution_count": 20,
     "metadata": {},
     "output_type": "execute_result"
    }
   ],
   "source": [
    "coord_file_lst[0].split('/')[-1].split('.')[0]"
   ]
  },
  {
   "cell_type": "code",
   "execution_count": null,
   "id": "e3a25699",
   "metadata": {},
   "outputs": [],
   "source": [
    "coords_2_380.pdb"
   ]
  },
  {
   "cell_type": "code",
   "execution_count": 8,
   "id": "c24f8a74",
   "metadata": {},
   "outputs": [],
   "source": [
    "import pywhatkit\n",
    "\n",
    "pywhatkit.sendwhatmsg_instantly(\"+447446984704\", \"Hi\")"
   ]
  },
  {
   "cell_type": "code",
   "execution_count": null,
   "id": "53e4cc55",
   "metadata": {},
   "outputs": [],
   "source": []
  }
 ],
 "metadata": {
  "kernelspec": {
   "display_name": "Python 3 (ipykernel)",
   "language": "python",
   "name": "python3"
  },
  "language_info": {
   "codemirror_mode": {
    "name": "ipython",
    "version": 3
   },
   "file_extension": ".py",
   "mimetype": "text/x-python",
   "name": "python",
   "nbconvert_exporter": "python",
   "pygments_lexer": "ipython3",
   "version": "3.9.13"
  }
 },
 "nbformat": 4,
 "nbformat_minor": 5
}
